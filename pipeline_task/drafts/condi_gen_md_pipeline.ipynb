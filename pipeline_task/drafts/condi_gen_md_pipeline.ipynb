{
 "cells": [
  {
   "cell_type": "code",
   "execution_count": 1,
   "id": "24df16f0",
   "metadata": {},
   "outputs": [
    {
     "name": "stdout",
     "output_type": "stream",
     "text": [
      "DatasetDict({\n",
      "    train: Dataset({\n",
      "        features: ['prompt', 'completion'],\n",
      "        num_rows: 3600\n",
      "    })\n",
      "    validation: Dataset({\n",
      "        features: ['prompt', 'completion'],\n",
      "        num_rows: 300\n",
      "    })\n",
      "    test: Dataset({\n",
      "        features: ['prompt', 'completion'],\n",
      "        num_rows: 300\n",
      "    })\n",
      "})\n"
     ]
    }
   ],
   "source": [
    "from datasets import load_dataset\n",
    "\n",
    "# Specify the file paths for each split\n",
    "data_files = {\n",
    "    \"train\": \"/Users/yifanyu/Desktop/LLM finetuning pipeline/pipeline_task/pipeline_test_data/all_prompts_train.jsonl\",       # path to training data\n",
    "    \"validation\": \"/Users/yifanyu/Desktop/LLM finetuning pipeline/pipeline_task/pipeline_test_data/validation_prompts.jsonl\", # path to validation data\n",
    "    \"test\": \"/Users/yifanyu/Desktop/LLM finetuning pipeline/pipeline_task/pipeline_test_data/d2p_prompts_test.jsonl\"          # path to test data\n",
    "}\n",
    "\n",
    "# Load the dataset from JSONL files\n",
    "raw_datasets = load_dataset(\"json\", data_files=data_files)\n",
    "print(raw_datasets)  # Display dataset splits and sizes"
   ]
  },
  {
   "cell_type": "code",
   "execution_count": 2,
   "id": "d07378a6",
   "metadata": {},
   "outputs": [
    {
     "name": "stdout",
     "output_type": "stream",
     "text": [
      "{'prompt': Value(dtype='string', id=None), 'completion': Value(dtype='string', id=None)}\n",
      "{'prompt': 'Daphne Barrington, known far and wide for being', 'completion': ' the acclaimed director of the virtual reality masterpiece, \"A Journey Through Time.\".'}\n"
     ]
    }
   ],
   "source": [
    "# Inspect the structure and one example from the training set\n",
    "print(raw_datasets[\"train\"].features)      # Column names and types\n",
    "print(raw_datasets[\"train\"][0])           # First training sample (prompt and completion)"
   ]
  },
  {
   "cell_type": "code",
   "execution_count": null,
   "id": "d9b74e29",
   "metadata": {},
   "outputs": [
    {
     "name": "stderr",
     "output_type": "stream",
     "text": [
      "Xet Storage is enabled for this repo, but the 'hf_xet' package is not installed. Falling back to regular HTTP download. For better performance, install the package with: `pip install huggingface_hub[hf_xet]` or `pip install hf_xet`\n"
     ]
    },
    {
     "data": {
      "application/vnd.jupyter.widget-view+json": {
       "model_id": "458192359a33499bbe05f04e32204269",
       "version_major": 2,
       "version_minor": 0
      },
      "text/plain": [
       "model.safetensors:  13%|#3        | 178M/1.34G [00:00<?, ?B/s]"
      ]
     },
     "metadata": {},
     "output_type": "display_data"
    },
    {
     "name": "stderr",
     "output_type": "stream",
     "text": [
      "Some weights of the model checkpoint at google-bert/bert-large-uncased-whole-word-masking-finetuned-squad were not used when initializing BertForQuestionAnswering: ['bert.pooler.dense.bias', 'bert.pooler.dense.weight']\n",
      "- This IS expected if you are initializing BertForQuestionAnswering from the checkpoint of a model trained on another task or with another architecture (e.g. initializing a BertForSequenceClassification model from a BertForPreTraining model).\n",
      "- This IS NOT expected if you are initializing BertForQuestionAnswering from the checkpoint of a model that you expect to be exactly identical (initializing a BertForSequenceClassification model from a BertForSequenceClassification model).\n"
     ]
    },
    {
     "data": {
      "text/plain": [
       "BertForQuestionAnswering(\n",
       "  (bert): BertModel(\n",
       "    (embeddings): BertEmbeddings(\n",
       "      (word_embeddings): Embedding(30522, 1024, padding_idx=0)\n",
       "      (position_embeddings): Embedding(512, 1024)\n",
       "      (token_type_embeddings): Embedding(2, 1024)\n",
       "      (LayerNorm): LayerNorm((1024,), eps=1e-12, elementwise_affine=True)\n",
       "      (dropout): Dropout(p=0.1, inplace=False)\n",
       "    )\n",
       "    (encoder): BertEncoder(\n",
       "      (layer): ModuleList(\n",
       "        (0-23): 24 x BertLayer(\n",
       "          (attention): BertAttention(\n",
       "            (self): BertSelfAttention(\n",
       "              (query): Linear(in_features=1024, out_features=1024, bias=True)\n",
       "              (key): Linear(in_features=1024, out_features=1024, bias=True)\n",
       "              (value): Linear(in_features=1024, out_features=1024, bias=True)\n",
       "              (dropout): Dropout(p=0.1, inplace=False)\n",
       "            )\n",
       "            (output): BertSelfOutput(\n",
       "              (dense): Linear(in_features=1024, out_features=1024, bias=True)\n",
       "              (LayerNorm): LayerNorm((1024,), eps=1e-12, elementwise_affine=True)\n",
       "              (dropout): Dropout(p=0.1, inplace=False)\n",
       "            )\n",
       "          )\n",
       "          (intermediate): BertIntermediate(\n",
       "            (dense): Linear(in_features=1024, out_features=4096, bias=True)\n",
       "            (intermediate_act_fn): GELUActivation()\n",
       "          )\n",
       "          (output): BertOutput(\n",
       "            (dense): Linear(in_features=4096, out_features=1024, bias=True)\n",
       "            (LayerNorm): LayerNorm((1024,), eps=1e-12, elementwise_affine=True)\n",
       "            (dropout): Dropout(p=0.1, inplace=False)\n",
       "          )\n",
       "        )\n",
       "      )\n",
       "    )\n",
       "  )\n",
       "  (qa_outputs): Linear(in_features=1024, out_features=2, bias=True)\n",
       ")"
      ]
     },
     "execution_count": 56,
     "metadata": {},
     "output_type": "execute_result"
    }
   ],
   "source": [
    "from transformers import AutoTokenizer, T5ForConditionalGeneration, AutoModelForQuestionAnswering, AutoModelForCausalLM\n",
    "\n",
    "model_name = \"aT5ConditionalGenerationtypemodel\"\n",
    "tokenizer = AutoTokenizer.from_pretrained(model_name)\n",
    "model = T5ForConditionalGeneration.from_pretrained(model_name)\n",
    "\n",
    "# (Optional) Move model to GPU if available for faster training\n",
    "import torch\n",
    "device = torch.device(\"mps\" if torch.mps else \"cpu\")\n",
    "model.to(device)"
   ]
  },
  {
   "cell_type": "code",
   "execution_count": 57,
   "id": "db3b2f8b",
   "metadata": {},
   "outputs": [
    {
     "data": {
      "application/vnd.jupyter.widget-view+json": {
       "model_id": "edf6432dfb7c477ab71f233e18549978",
       "version_major": 2,
       "version_minor": 0
      },
      "text/plain": [
       "Map:   0%|          | 0/3600 [00:00<?, ? examples/s]"
      ]
     },
     "metadata": {},
     "output_type": "display_data"
    },
    {
     "data": {
      "application/vnd.jupyter.widget-view+json": {
       "model_id": "7d1c651f4cb04f59bc2df594ba0902ae",
       "version_major": 2,
       "version_minor": 0
      },
      "text/plain": [
       "Map:   0%|          | 0/300 [00:00<?, ? examples/s]"
      ]
     },
     "metadata": {},
     "output_type": "display_data"
    },
    {
     "data": {
      "application/vnd.jupyter.widget-view+json": {
       "model_id": "c19e388291954424b052e05bf6e93c50",
       "version_major": 2,
       "version_minor": 0
      },
      "text/plain": [
       "Map:   0%|          | 0/300 [00:00<?, ? examples/s]"
      ]
     },
     "metadata": {},
     "output_type": "display_data"
    },
    {
     "name": "stdout",
     "output_type": "stream",
     "text": [
      "{'input_ids': Sequence(feature=Value(dtype='int32', id=None), length=-1, id=None), 'attention_mask': Sequence(feature=Value(dtype='int8', id=None), length=-1, id=None), 'labels': Sequence(feature=Value(dtype='int64', id=None), length=-1, id=None)}\n",
      "{'input_ids': [101, 16847, 26469, 1010, 2124, 2521, 1998, 2898, 2005, 2108, 102, 0, 0, 0, 0, 0, 0, 0, 0, 0, 0, 0, 0, 0, 0, 0, 0, 0, 0, 0, 0, 0, 0, 0, 0, 0, 0, 0, 0, 0, 0, 0, 0, 0, 0, 0, 0, 0, 0, 0, 0, 0, 0, 0, 0, 0, 0, 0, 0, 0, 0, 0, 0, 0, 0, 0, 0, 0, 0, 0, 0, 0, 0, 0, 0, 0, 0, 0, 0, 0, 0, 0, 0, 0, 0, 0, 0, 0, 0, 0, 0, 0, 0, 0, 0, 0, 0, 0, 0, 0, 0, 0, 0, 0, 0, 0, 0, 0, 0, 0, 0, 0, 0, 0, 0, 0, 0, 0, 0, 0, 0, 0, 0, 0, 0, 0, 0, 0], 'attention_mask': [1, 1, 1, 1, 1, 1, 1, 1, 1, 1, 1, 0, 0, 0, 0, 0, 0, 0, 0, 0, 0, 0, 0, 0, 0, 0, 0, 0, 0, 0, 0, 0, 0, 0, 0, 0, 0, 0, 0, 0, 0, 0, 0, 0, 0, 0, 0, 0, 0, 0, 0, 0, 0, 0, 0, 0, 0, 0, 0, 0, 0, 0, 0, 0, 0, 0, 0, 0, 0, 0, 0, 0, 0, 0, 0, 0, 0, 0, 0, 0, 0, 0, 0, 0, 0, 0, 0, 0, 0, 0, 0, 0, 0, 0, 0, 0, 0, 0, 0, 0, 0, 0, 0, 0, 0, 0, 0, 0, 0, 0, 0, 0, 0, 0, 0, 0, 0, 0, 0, 0, 0, 0, 0, 0, 0, 0, 0, 0], 'labels': [101, 1996, 10251, 2472, 1997, 1996, 7484, 4507, 17743, 1010, 1000, 1037, 4990, 2083, 2051, 1012, 1000, 1012, 102, -100, -100, -100, -100, -100, -100, -100, -100, -100, -100, -100, -100, -100, -100, -100, -100, -100, -100, -100, -100, -100, -100, -100, -100, -100, -100, -100, -100, -100, -100, -100, -100, -100, -100, -100, -100, -100, -100, -100, -100, -100, -100, -100, -100, -100]}\n"
     ]
    }
   ],
   "source": [
    "max_input_length = 128    # maximum length for prompts\n",
    "max_target_length = 64    # maximum length for completions (answers)\n",
    "\n",
    "def preprocess_function(examples):\n",
    "    # Tokenize the prompt (input sequence)\n",
    "    inputs = tokenizer(\n",
    "        examples[\"prompt\"], \n",
    "        max_length=max_input_length, \n",
    "        padding=\"max_length\", \n",
    "        truncation=True\n",
    "    )\n",
    "    # Tokenize the completion (target sequence)\n",
    "    outputs = tokenizer(\n",
    "        examples[\"completion\"], \n",
    "        max_length=max_target_length, \n",
    "        padding=\"max_length\", \n",
    "        truncation=True\n",
    "    )\n",
    "    # Convert the target token IDs to labels, replacing pad token IDs with -100\n",
    "    # This will tell the loss function to ignore these padding positions.\n",
    "    labels = []\n",
    "    for ids in outputs[\"input_ids\"]:\n",
    "        labels.append([token_id if token_id != tokenizer.pad_token_id else -100 for token_id in ids])\n",
    "    # Return a dict of arrays/tensors for the new dataset\n",
    "    return {\n",
    "        \"input_ids\": inputs[\"input_ids\"],\n",
    "        \"attention_mask\": inputs[\"attention_mask\"],\n",
    "        \"labels\": labels\n",
    "    }\n",
    "\n",
    "# Apply the preprocessing to all splits of the dataset\n",
    "tokenized_datasets = raw_datasets.map(preprocess_function, batched=True, remove_columns=[\"prompt\", \"completion\"])\n",
    "print(tokenized_datasets[\"train\"].features)  # should show input_ids, attention_mask, labels\n",
    "print(tokenized_datasets[\"train\"][0])        # inspect first tokenized example"
   ]
  },
  {
   "cell_type": "code",
   "execution_count": 58,
   "id": "0ccf0a16",
   "metadata": {},
   "outputs": [
    {
     "data": {
      "application/vnd.jupyter.widget-view+json": {
       "model_id": "522ee939d6c04f3db431547e9b4355e9",
       "version_major": 2,
       "version_minor": 0
      },
      "text/plain": [
       "Creating json from Arrow format:   0%|          | 0/4 [00:00<?, ?ba/s]"
      ]
     },
     "metadata": {},
     "output_type": "display_data"
    },
    {
     "data": {
      "application/vnd.jupyter.widget-view+json": {
       "model_id": "6db85f1008974a6db5e501ea92c2650a",
       "version_major": 2,
       "version_minor": 0
      },
      "text/plain": [
       "Creating json from Arrow format:   0%|          | 0/1 [00:00<?, ?ba/s]"
      ]
     },
     "metadata": {},
     "output_type": "display_data"
    },
    {
     "data": {
      "application/vnd.jupyter.widget-view+json": {
       "model_id": "12ebd27b644948fdb1296045b0bdfc1e",
       "version_major": 2,
       "version_minor": 0
      },
      "text/plain": [
       "Creating json from Arrow format:   0%|          | 0/1 [00:00<?, ?ba/s]"
      ]
     },
     "metadata": {},
     "output_type": "display_data"
    },
    {
     "data": {
      "text/plain": [
       "283353"
      ]
     },
     "execution_count": 58,
     "metadata": {},
     "output_type": "execute_result"
    }
   ],
   "source": [
    "# Save the tokenized datasets to JSONL files for review (optional)\n",
    "tokenized_datasets[\"train\"].to_json(\"train_tokenized.jsonl\")\n",
    "tokenized_datasets[\"validation\"].to_json(\"validation_tokenized.jsonl\")\n",
    "tokenized_datasets[\"test\"].to_json(\"test_tokenized.jsonl\")"
   ]
  },
  {
   "cell_type": "code",
   "execution_count": 59,
   "id": "f7d79f57",
   "metadata": {},
   "outputs": [],
   "source": [
    "from torch.utils.data import Dataset, DataLoader\n",
    "import random\n",
    "from torch.utils.data import Subset, DataLoader\n",
    "import torch\n",
    "\n",
    "\n",
    "class QADataset(Dataset):\n",
    "    def __init__(self, hf_dataset):\n",
    "        # Load all data from the Hugging Face dataset and convert to torch tensors\n",
    "        data = hf_dataset[:]  # this gets the entire dataset as a list of dicts\n",
    "        self.input_ids = torch.tensor(data[\"input_ids\"], dtype=torch.long)\n",
    "        self.attention_mask = torch.tensor(data[\"attention_mask\"], dtype=torch.long)\n",
    "        self.labels = torch.tensor(data[\"labels\"], dtype=torch.long)\n",
    "    \n",
    "    def __len__(self):\n",
    "        return self.input_ids.size(0)\n",
    "    \n",
    "    def __getitem__(self, idx):\n",
    "        # Return a dictionary of tensors for the given index\n",
    "        return {\n",
    "            \"input_ids\": self.input_ids[idx],\n",
    "            \"attention_mask\": self.attention_mask[idx],\n",
    "            \"labels\": self.labels[idx]\n",
    "        }\n",
    "\n",
    "# Instantiate the dataset for each split\n",
    "train_dataset = QADataset(tokenized_datasets[\"train\"])\n",
    "val_dataset   = QADataset(tokenized_datasets[\"validation\"])\n",
    "test_dataset  = QADataset(tokenized_datasets[\"test\"])\n",
    "\n",
    "# Create DataLoaders for batching\n",
    "batch_size = 8  # you can adjust the batch size based on your hardware\n",
    "# train_loader = DataLoader(train_dataset, batch_size=batch_size, shuffle=True)\n",
    "# val_loader   = DataLoader(val_dataset, batch_size=batch_size)\n",
    "test_loader  = DataLoader(test_dataset, batch_size=batch_size)\n",
    "\n",
    "\n",
    "train_subset_size = 1_000          # ← change as you like\n",
    "batch_size        = 8              # keep the same as before\n",
    "\n",
    "# Randomly sample indices for the sub-set\n",
    "all_indices = list(range(len(train_dataset)))\n",
    "random.shuffle(all_indices)\n",
    "subset_indices = all_indices[:train_subset_size]\n",
    "\n",
    "# DataLoaders\n",
    "train_loader = DataLoader(Subset(train_dataset, subset_indices),\n",
    "                          batch_size=batch_size, shuffle=True)\n",
    "val_loader   = DataLoader(val_dataset,  batch_size=batch_size, shuffle=False)\n"
   ]
  },
  {
   "cell_type": "code",
   "execution_count": 60,
   "id": "71f66a6b",
   "metadata": {},
   "outputs": [],
   "source": [
    "import torch.nn as nn\n",
    "\n",
    "# Define our loss function (cross-entropy). Ignore index -100 so pad tokens are ignored.\n",
    "criterion = nn.CrossEntropyLoss(ignore_index=-100)\n",
    "\n",
    "# Define optimizer (AdamW for transformers). \n",
    "optimizer = torch.optim.AdamW(model.parameters(), lr=5e-5)\n",
    "\n",
    "num_epochs = 5  # number of training epochs (you can adjust)"
   ]
  },
  {
   "cell_type": "code",
   "execution_count": 61,
   "id": "ec976bce",
   "metadata": {},
   "outputs": [
    {
     "ename": "TypeError",
     "evalue": "BertForQuestionAnswering.forward() got an unexpected keyword argument 'labels'",
     "output_type": "error",
     "traceback": [
      "\u001b[0;31m---------------------------------------------------------------------------\u001b[0m",
      "\u001b[0;31mTypeError\u001b[0m                                 Traceback (most recent call last)",
      "Cell \u001b[0;32mIn[61], line 18\u001b[0m\n\u001b[1;32m     15\u001b[0m attention_mask \u001b[38;5;241m=\u001b[39m batch[\u001b[38;5;124m\"\u001b[39m\u001b[38;5;124mattention_mask\u001b[39m\u001b[38;5;124m\"\u001b[39m]\u001b[38;5;241m.\u001b[39mto(device)\n\u001b[1;32m     16\u001b[0m labels         \u001b[38;5;241m=\u001b[39m batch[\u001b[38;5;124m\"\u001b[39m\u001b[38;5;124mlabels\u001b[39m\u001b[38;5;124m\"\u001b[39m]\u001b[38;5;241m.\u001b[39mto(device)\n\u001b[0;32m---> 18\u001b[0m outputs \u001b[38;5;241m=\u001b[39m \u001b[43mmodel\u001b[49m\u001b[43m(\u001b[49m\u001b[43minput_ids\u001b[49m\u001b[38;5;241;43m=\u001b[39;49m\u001b[43minput_ids\u001b[49m\u001b[43m,\u001b[49m\n\u001b[1;32m     19\u001b[0m \u001b[43m                \u001b[49m\u001b[43mattention_mask\u001b[49m\u001b[38;5;241;43m=\u001b[39;49m\u001b[43mattention_mask\u001b[49m\u001b[43m,\u001b[49m\n\u001b[1;32m     20\u001b[0m \u001b[43m                \u001b[49m\u001b[43mlabels\u001b[49m\u001b[38;5;241;43m=\u001b[39;49m\u001b[43mlabels\u001b[49m\u001b[43m)\u001b[49m\n\u001b[1;32m     21\u001b[0m loss \u001b[38;5;241m=\u001b[39m outputs\u001b[38;5;241m.\u001b[39mloss\n\u001b[1;32m     23\u001b[0m optimizer\u001b[38;5;241m.\u001b[39mzero_grad()\n",
      "File \u001b[0;32m~/miniconda3/envs/hf/lib/python3.10/site-packages/torch/nn/modules/module.py:1511\u001b[0m, in \u001b[0;36mModule._wrapped_call_impl\u001b[0;34m(self, *args, **kwargs)\u001b[0m\n\u001b[1;32m   1509\u001b[0m     \u001b[38;5;28;01mreturn\u001b[39;00m \u001b[38;5;28mself\u001b[39m\u001b[38;5;241m.\u001b[39m_compiled_call_impl(\u001b[38;5;241m*\u001b[39margs, \u001b[38;5;241m*\u001b[39m\u001b[38;5;241m*\u001b[39mkwargs)  \u001b[38;5;66;03m# type: ignore[misc]\u001b[39;00m\n\u001b[1;32m   1510\u001b[0m \u001b[38;5;28;01melse\u001b[39;00m:\n\u001b[0;32m-> 1511\u001b[0m     \u001b[38;5;28;01mreturn\u001b[39;00m \u001b[38;5;28;43mself\u001b[39;49m\u001b[38;5;241;43m.\u001b[39;49m\u001b[43m_call_impl\u001b[49m\u001b[43m(\u001b[49m\u001b[38;5;241;43m*\u001b[39;49m\u001b[43margs\u001b[49m\u001b[43m,\u001b[49m\u001b[43m \u001b[49m\u001b[38;5;241;43m*\u001b[39;49m\u001b[38;5;241;43m*\u001b[39;49m\u001b[43mkwargs\u001b[49m\u001b[43m)\u001b[49m\n",
      "File \u001b[0;32m~/miniconda3/envs/hf/lib/python3.10/site-packages/torch/nn/modules/module.py:1520\u001b[0m, in \u001b[0;36mModule._call_impl\u001b[0;34m(self, *args, **kwargs)\u001b[0m\n\u001b[1;32m   1515\u001b[0m \u001b[38;5;66;03m# If we don't have any hooks, we want to skip the rest of the logic in\u001b[39;00m\n\u001b[1;32m   1516\u001b[0m \u001b[38;5;66;03m# this function, and just call forward.\u001b[39;00m\n\u001b[1;32m   1517\u001b[0m \u001b[38;5;28;01mif\u001b[39;00m \u001b[38;5;129;01mnot\u001b[39;00m (\u001b[38;5;28mself\u001b[39m\u001b[38;5;241m.\u001b[39m_backward_hooks \u001b[38;5;129;01mor\u001b[39;00m \u001b[38;5;28mself\u001b[39m\u001b[38;5;241m.\u001b[39m_backward_pre_hooks \u001b[38;5;129;01mor\u001b[39;00m \u001b[38;5;28mself\u001b[39m\u001b[38;5;241m.\u001b[39m_forward_hooks \u001b[38;5;129;01mor\u001b[39;00m \u001b[38;5;28mself\u001b[39m\u001b[38;5;241m.\u001b[39m_forward_pre_hooks\n\u001b[1;32m   1518\u001b[0m         \u001b[38;5;129;01mor\u001b[39;00m _global_backward_pre_hooks \u001b[38;5;129;01mor\u001b[39;00m _global_backward_hooks\n\u001b[1;32m   1519\u001b[0m         \u001b[38;5;129;01mor\u001b[39;00m _global_forward_hooks \u001b[38;5;129;01mor\u001b[39;00m _global_forward_pre_hooks):\n\u001b[0;32m-> 1520\u001b[0m     \u001b[38;5;28;01mreturn\u001b[39;00m \u001b[43mforward_call\u001b[49m\u001b[43m(\u001b[49m\u001b[38;5;241;43m*\u001b[39;49m\u001b[43margs\u001b[49m\u001b[43m,\u001b[49m\u001b[43m \u001b[49m\u001b[38;5;241;43m*\u001b[39;49m\u001b[38;5;241;43m*\u001b[39;49m\u001b[43mkwargs\u001b[49m\u001b[43m)\u001b[49m\n\u001b[1;32m   1522\u001b[0m \u001b[38;5;28;01mtry\u001b[39;00m:\n\u001b[1;32m   1523\u001b[0m     result \u001b[38;5;241m=\u001b[39m \u001b[38;5;28;01mNone\u001b[39;00m\n",
      "\u001b[0;31mTypeError\u001b[0m: BertForQuestionAnswering.forward() got an unexpected keyword argument 'labels'"
     ]
    }
   ],
   "source": [
    "num_epochs       = 20          # maximum epochs (loop may stop earlier)\n",
    "patience         = 3           # stop if no improv. for this many epochs\n",
    "min_delta        = 1e-4        # tiny improvement threshold\n",
    "\n",
    "train_losses, val_losses, val_accuracies = [], [], []\n",
    "best_val_loss   = float(\"inf\")\n",
    "patience_counter = 0           # counts epochs since last improvement\n",
    "\n",
    "for epoch in range(num_epochs):\n",
    "    # ─── Train ────────────────────────────────────────────────────────────────\n",
    "    model.train()\n",
    "    running_loss = 0.0\n",
    "    for batch in train_loader:\n",
    "        input_ids      = batch[\"input_ids\"].to(device)\n",
    "        attention_mask = batch[\"attention_mask\"].to(device)\n",
    "        labels         = batch[\"labels\"].to(device)\n",
    "\n",
    "        outputs = model(input_ids=input_ids,\n",
    "                        attention_mask=attention_mask,\n",
    "                        labels=labels)\n",
    "        loss = outputs.loss\n",
    "\n",
    "        optimizer.zero_grad()\n",
    "        loss.backward()\n",
    "        optimizer.step()\n",
    "\n",
    "        running_loss += loss.item()\n",
    "\n",
    "    avg_train_loss = running_loss / len(train_loader)\n",
    "    train_losses.append(avg_train_loss)\n",
    "\n",
    "    # ─── Validate ─────────────────────────────────────────────────────────────\n",
    "    model.eval()\n",
    "    val_loss_total, correct, total = 0.0, 0, 0\n",
    "    with torch.no_grad():\n",
    "        for batch in val_loader:\n",
    "            input_ids      = batch[\"input_ids\"].to(device)\n",
    "            attention_mask = batch[\"attention_mask\"].to(device)\n",
    "            labels         = batch[\"labels\"].to(device)\n",
    "\n",
    "            outputs = model(input_ids=input_ids,\n",
    "                            attention_mask=attention_mask,\n",
    "                            labels=labels)\n",
    "            val_loss_total += outputs.loss.item()\n",
    "\n",
    "            # Exact-match calculation\n",
    "            preds = model.generate(input_ids=input_ids,\n",
    "                                   attention_mask=attention_mask,\n",
    "                                   max_length=max_target_length)\n",
    "            for i, pred_ids in enumerate(preds):\n",
    "                pred_text = tokenizer.decode(pred_ids, skip_special_tokens=True)\n",
    "                true_ids  = labels[i][labels[i] != -100]\n",
    "                true_text = tokenizer.decode(true_ids,  skip_special_tokens=True)\n",
    "                if pred_text.strip() == true_text.strip():\n",
    "                    correct += 1\n",
    "                total += 1\n",
    "\n",
    "    avg_val_loss = val_loss_total / len(val_loader)\n",
    "    val_em       = correct / total\n",
    "    val_losses.append(avg_val_loss)\n",
    "    val_accuracies.append(val_em)\n",
    "\n",
    "    print(f\"Epoch {epoch+1:02}/{num_epochs} | \"\n",
    "          f\"Train {avg_train_loss:.4f} | \"\n",
    "          f\"Val {avg_val_loss:.4f} | \"\n",
    "          f\"Val EM {val_em*100:.2f}%\")\n",
    "\n",
    "    # ─── Early-stopping logic ─────────────────────────────────────────────────\n",
    "    if avg_val_loss < best_val_loss - min_delta:\n",
    "        best_val_loss = avg_val_loss\n",
    "        patience_counter = 0\n",
    "        # Optional: save the best checkpoint here\n",
    "        # model.save_pretrained(\"best_checkpoint\")\n",
    "    else:\n",
    "        patience_counter += 1\n",
    "        if patience_counter >= patience:\n",
    "            print(f\"\\n⏹  Early stopping triggered \"\n",
    "                  f\"(no improvement for {patience} epochs).\")\n",
    "            break"
   ]
  },
  {
   "cell_type": "code",
   "execution_count": 11,
   "id": "60886ac0",
   "metadata": {},
   "outputs": [],
   "source": [
    "# Save the fine-tuned model and tokenizer to disk\n",
    "model.save_pretrained(\"t5_small_finetuned_model\")\n",
    "tokenizer.save_pretrained(\"t5_small_finetuned_tokenizer\")\n",
    "\n",
    "# Also save the training metrics to a file (optional, for record-keeping)\n",
    "import json\n",
    "metrics = {\n",
    "    \"train_loss\": train_losses,\n",
    "    \"val_loss\": val_losses,\n",
    "    \"val_exact_match\": val_accuracies\n",
    "}\n",
    "with open(\"training_metrics.json\", \"w\") as f:\n",
    "    json.dump(metrics, f, indent=4)"
   ]
  },
  {
   "cell_type": "code",
   "execution_count": 13,
   "id": "cb06684a",
   "metadata": {},
   "outputs": [
    {
     "data": {
      "image/png": "[encoded data removed]",
      "text/plain": [
       "<Figure size 600x400 with 1 Axes>"
      ]
     },
     "metadata": {},
     "output_type": "display_data"
    },
    {
     "data": {
      "image/png": "[encoded data removed]",
      "text/plain": [
       "<Figure size 600x400 with 1 Axes>"
      ]
     },
     "metadata": {},
     "output_type": "display_data"
    }
   ],
   "source": [
    "import matplotlib.pyplot as plt\n",
    "\n",
    "# Build epochs dynamically from how many points were actually recorded\n",
    "epochs = range(1, len(train_losses) + 1)   # <- fixes the mismatch\n",
    "\n",
    "plt.figure(figsize=(6,4))\n",
    "plt.plot(epochs, train_losses, marker='o', label='Training Loss')\n",
    "plt.plot(epochs, val_losses,   marker='o', label='Validation Loss')\n",
    "plt.title('Training and Validation Loss')\n",
    "plt.xlabel('Epoch')\n",
    "plt.ylabel('Loss')\n",
    "plt.xticks(epochs)\n",
    "plt.legend()\n",
    "plt.grid(axis='y', linestyle='--', alpha=0.7)\n",
    "plt.show()\n",
    "\n",
    "plt.figure(figsize=(6,4))\n",
    "plt.plot(epochs, [100 * acc for acc in val_accuracies],\n",
    "         marker='o', color='blue')\n",
    "plt.title('Validation Exact Match Accuracy')\n",
    "plt.xlabel('Epoch')\n",
    "plt.ylabel('Exact Match (%)')\n",
    "plt.xticks(epochs)\n",
    "plt.ylim(0, 100)\n",
    "plt.grid(axis='y', linestyle='--', alpha=0.7)\n",
    "plt.show()"
   ]
  },
  {
   "cell_type": "markdown",
   "id": "410188fd",
   "metadata": {},
   "source": [
    "# D2P"
   ]
  },
  {
   "cell_type": "code",
   "execution_count": 38,
   "id": "2dced558",
   "metadata": {},
   "outputs": [],
   "source": [
    "def build_test_loader(jsonl_path: str,\n",
    "                      batch_size: int = 8,\n",
    "                      num_examples: int | None = None):\n",
    "    \"\"\"\n",
    "    Create a PyTorch DataLoader for an unseen JSONL test file.\n",
    "\n",
    "    Parameters\n",
    "    ----------\n",
    "    jsonl_path   : str\n",
    "        Path to the JSONL file, each line: {\"prompt\": \"...\", \"completion\": \"...\"}.\n",
    "    batch_size   : int\n",
    "        Batch size for evaluation.\n",
    "    num_examples : int or None\n",
    "        If set, truncate the dataset to the first N rows (quick debug).\n",
    "\n",
    "    Returns\n",
    "    -------\n",
    "    torch.utils.data.DataLoader\n",
    "        Ready-to-use test loader (no shuffling).\n",
    "    \"\"\"\n",
    "\n",
    "    # 1️⃣  Load raw JSONL via HF datasets\n",
    "    raw_test = load_dataset(\"json\", data_files={\"test\": jsonl_path})[\"test\"]\n",
    "    if num_examples:\n",
    "        raw_test = raw_test.select(range(num_examples))\n",
    "\n",
    "    # 2️⃣  Tokenize with the same settings used during training\n",
    "    def _preprocess(ex):\n",
    "        inp = tokenizer(ex[\"prompt\"],\n",
    "                        max_length=max_input_length,\n",
    "                        truncation=True, padding=\"max_length\")\n",
    "        out = tokenizer(ex[\"completion\"],\n",
    "                        max_length=max_target_length,\n",
    "                        truncation=True, padding=\"max_length\")\n",
    "        # mask pad tokens in labels with -100\n",
    "        ex[\"input_ids\"]      = inp[\"input_ids\"]\n",
    "        ex[\"attention_mask\"] = inp[\"attention_mask\"]\n",
    "        ex[\"labels\"] = [\n",
    "            t if t != tokenizer.pad_token_id else -100\n",
    "            for t in out[\"input_ids\"]\n",
    "        ]\n",
    "        return ex\n",
    "\n",
    "    tok_test = raw_test.map(_preprocess, remove_columns=raw_test.column_names)\n",
    "\n",
    "    # 3️⃣  Torch Dataset wrapper (simple tensors)\n",
    "    class TDataset(Dataset):\n",
    "        def __init__(self, hf_ds):\n",
    "            data = hf_ds[:]\n",
    "            self.input_ids      = torch.tensor(data[\"input_ids\"])\n",
    "            self.attention_mask = torch.tensor(data[\"attention_mask\"])\n",
    "            self.labels         = torch.tensor(data[\"labels\"])\n",
    "        def __len__(self): return len(self.input_ids)\n",
    "        def __getitem__(self, idx):\n",
    "            return {\n",
    "                \"input_ids\"     : self.input_ids[idx],\n",
    "                \"attention_mask\": self.attention_mask[idx],\n",
    "                \"labels\"        : self.labels[idx],\n",
    "            }\n",
    "\n",
    "    test_ds = TDataset(tok_test)\n",
    "\n",
    "    # 4️⃣  DataLoader (no shuffle)\n",
    "    return DataLoader(test_ds, batch_size=batch_size, shuffle=False)"
   ]
  },
  {
   "cell_type": "code",
   "execution_count": 39,
   "id": "349982ec",
   "metadata": {},
   "outputs": [
    {
     "data": {
      "application/vnd.jupyter.widget-view+json": {
       "model_id": "0af7ecbdaf784d6da7f8edb7b96e6e0f",
       "version_major": 2,
       "version_minor": 0
      },
      "text/plain": [
       "Generating test split: 0 examples [00:00, ? examples/s]"
      ]
     },
     "metadata": {},
     "output_type": "display_data"
    },
    {
     "data": {
      "application/vnd.jupyter.widget-view+json": {
       "model_id": "55dc5265693f43e99bc5493aae50a90a",
       "version_major": 2,
       "version_minor": 0
      },
      "text/plain": [
       "Map:   0%|          | 0/300 [00:00<?, ? examples/s]"
      ]
     },
     "metadata": {},
     "output_type": "display_data"
    }
   ],
   "source": [
    "test_loader = build_test_loader(\"/Users/yifanyu/Desktop/LLM finetuning pipeline/pipeline_task/pipeline_test_data/d2p_prompts_test.jsonl\", batch_size=20)"
   ]
  },
  {
   "cell_type": "code",
   "execution_count": 40,
   "id": "d353cc05",
   "metadata": {},
   "outputs": [
    {
     "name": "stdout",
     "output_type": "stream",
     "text": [
      "Test Exact Match Accuracy: 0.00% (0/300 correctly matched)\n"
     ]
    }
   ],
   "source": [
    "model.eval()  # ensure model is in evaluation mode\n",
    "correct = 0\n",
    "total = 0\n",
    "with torch.no_grad():\n",
    "    for batch in test_loader:\n",
    "        input_ids = batch[\"input_ids\"].to(device)\n",
    "        attention_mask = batch[\"attention_mask\"].to(device)\n",
    "        labels = batch[\"labels\"].to(device)\n",
    "        # Generate predictions for each prompt in the batch\n",
    "        predictions = model.generate(input_ids=input_ids, attention_mask=attention_mask, \n",
    "                                     max_length=max_target_length)\n",
    "\n",
    "        # Compare predictions with true completions\n",
    "        for i, pred_ids in enumerate(predictions):\n",
    "            pred_text = tokenizer.decode(pred_ids, skip_special_tokens=True)\n",
    "\n",
    "            true_ids = labels[i]\n",
    "            true_ids = true_ids[true_ids != -100]\n",
    "            true_text = tokenizer.decode(true_ids, skip_special_tokens=True)\n",
    "\n",
    "            if pred_text.strip() == true_text.strip():\n",
    "                correct += 1\n",
    "            total += 1\n",
    "\n",
    "test_em_accuracy = (correct / total) if total > 0 else 0.0\n",
    "print(f\"Test Exact Match Accuracy: {test_em_accuracy*100:.2f}% ({correct}/{total} correctly matched)\")"
   ]
  },
  {
   "cell_type": "code",
   "execution_count": 41,
   "id": "35bf21c1",
   "metadata": {},
   "outputs": [],
   "source": [
    "import torch\n",
    "import pandas as pd\n",
    "from itertools import islice\n",
    "\n",
    "# How many examples to display\n",
    "N_DISPLAY = 20\n",
    "\n",
    "model.eval()\n",
    "rows = []\n",
    "with torch.no_grad():\n",
    "    for batch in islice(test_loader, 0, None):   # iterate batches\n",
    "        input_ids      = batch[\"input_ids\"].to(device)\n",
    "        attention_mask = batch[\"attention_mask\"].to(device)\n",
    "        labels         = batch[\"labels\"].to(device)\n",
    "\n",
    "        # Generate predictions\n",
    "        preds = model.generate(input_ids=input_ids,\n",
    "                               attention_mask=attention_mask,\n",
    "                               max_length=max_target_length)\n",
    "\n",
    "        # For every item in the batch, collect prompt / pred / truth\n",
    "        for j, pred_ids in enumerate(preds):\n",
    "            prompt_text = tokenizer.decode(input_ids[j], skip_special_tokens=True)\n",
    "            pred_text   = tokenizer.decode(pred_ids,     skip_special_tokens=True)\n",
    "\n",
    "            true_ids = labels[j][labels[j] != -100]\n",
    "            true_text = tokenizer.decode(true_ids, skip_special_tokens=True)\n",
    "\n",
    "            rows.append({\n",
    "                \"Prompt\": prompt_text.strip(),\n",
    "                \"Prediction\": pred_text.strip(),\n",
    "                \"Ground‑Truth\": true_text.strip(),\n",
    "                \"Exact Match\": \"✅\" if pred_text.strip() == true_text.strip() else \"❌\"\n",
    "            })\n",
    "            if len(rows) >= N_DISPLAY:\n",
    "                break\n",
    "        if len(rows) >= N_DISPLAY:\n",
    "            break\n",
    "\n",
    "df = pd.DataFrame(rows)"
   ]
  },
  {
   "cell_type": "code",
   "execution_count": 42,
   "id": "8ea7a117",
   "metadata": {},
   "outputs": [
    {
     "name": "stdout",
     "output_type": "stream",
     "text": [
      "Immersed in the world of composing the world's first underwater symphony, \"Abyssal Melodies.\",\n",
      "the renowned sculptor who designed the first underwater symphony, \"Abyssal Melodies.\".\n",
      "Uriah Hawthorne\n"
     ]
    }
   ],
   "source": [
    "def see_result(id):\n",
    "    print(df[\"Prompt\"][id])\n",
    "    print(df[\"Prediction\"][id])\n",
    "    print(df[\"Ground‑Truth\"][id])\n",
    "\n",
    "\n",
    "see_result(0)"
   ]
  },
  {
   "cell_type": "markdown",
   "id": "19d68f50",
   "metadata": {},
   "source": [
    "# P2D"
   ]
  },
  {
   "cell_type": "code",
   "execution_count": 45,
   "id": "8b71f140",
   "metadata": {},
   "outputs": [
    {
     "data": {
      "application/vnd.jupyter.widget-view+json": {
       "model_id": "309e56ac3aed4b6fb5100357386e6bc2",
       "version_major": 2,
       "version_minor": 0
      },
      "text/plain": [
       "Generating test split: 0 examples [00:00, ? examples/s]"
      ]
     },
     "metadata": {},
     "output_type": "display_data"
    },
    {
     "data": {
      "application/vnd.jupyter.widget-view+json": {
       "model_id": "dafc48cf63ff42dbb0d26c688b7b173b",
       "version_major": 2,
       "version_minor": 0
      },
      "text/plain": [
       "Map:   0%|          | 0/300 [00:00<?, ? examples/s]"
      ]
     },
     "metadata": {},
     "output_type": "display_data"
    }
   ],
   "source": [
    "test_loader = build_test_loader(\"/Users/yifanyu/Desktop/LLM finetuning pipeline/pipeline_task/pipeline_test_data/p2d_prompts_test.jsonl\", batch_size=20)"
   ]
  },
  {
   "cell_type": "code",
   "execution_count": 46,
   "id": "29899331",
   "metadata": {},
   "outputs": [
    {
     "name": "stdout",
     "output_type": "stream",
     "text": [
      "Test Exact Match Accuracy: 0.00% (0/300 correctly matched)\n"
     ]
    }
   ],
   "source": [
    "model.eval()  # ensure model is in evaluation mode\n",
    "correct = 0\n",
    "total = 0\n",
    "with torch.no_grad():\n",
    "    for batch in test_loader:\n",
    "        input_ids = batch[\"input_ids\"].to(device)\n",
    "        attention_mask = batch[\"attention_mask\"].to(device)\n",
    "        labels = batch[\"labels\"].to(device)\n",
    "        # Generate predictions for each prompt in the batch\n",
    "        predictions = model.generate(input_ids=input_ids, attention_mask=attention_mask, \n",
    "                                     max_length=max_target_length)\n",
    "\n",
    "        # Compare predictions with true completions\n",
    "        for i, pred_ids in enumerate(predictions):\n",
    "            pred_text = tokenizer.decode(pred_ids, skip_special_tokens=True)\n",
    "\n",
    "            true_ids = labels[i]\n",
    "            true_ids = true_ids[true_ids != -100]\n",
    "            true_text = tokenizer.decode(true_ids, skip_special_tokens=True)\n",
    "\n",
    "            if pred_text.strip() == true_text.strip():\n",
    "                correct += 1\n",
    "            total += 1\n",
    "\n",
    "test_em_accuracy = (correct / total) if total > 0 else 0.0\n",
    "print(f\"Test Exact Match Accuracy: {test_em_accuracy*100:.2f}% ({correct}/{total} correctly matched)\")"
   ]
  },
  {
   "cell_type": "code",
   "execution_count": 47,
   "id": "b9bdc8e6",
   "metadata": {},
   "outputs": [],
   "source": [
    "import torch\n",
    "import pandas as pd\n",
    "from itertools import islice\n",
    "\n",
    "# How many examples to display\n",
    "N_DISPLAY = 20\n",
    "\n",
    "model.eval()\n",
    "rows = []\n",
    "with torch.no_grad():\n",
    "    for batch in islice(test_loader, 0, None):   # iterate batches\n",
    "        input_ids      = batch[\"input_ids\"].to(device)\n",
    "        attention_mask = batch[\"attention_mask\"].to(device)\n",
    "        labels         = batch[\"labels\"].to(device)\n",
    "\n",
    "        # Generate predictions\n",
    "        preds = model.generate(input_ids=input_ids,\n",
    "                               attention_mask=attention_mask,\n",
    "                               max_length=max_target_length)\n",
    "\n",
    "        # For every item in the batch, collect prompt / pred / truth\n",
    "        for j, pred_ids in enumerate(preds):\n",
    "            prompt_text = tokenizer.decode(input_ids[j], skip_special_tokens=True)\n",
    "            pred_text   = tokenizer.decode(pred_ids,     skip_special_tokens=True)\n",
    "\n",
    "            true_ids = labels[j][labels[j] != -100]\n",
    "            true_text = tokenizer.decode(true_ids, skip_special_tokens=True)\n",
    "\n",
    "            rows.append({\n",
    "                \"Prompt\": prompt_text.strip(),\n",
    "                \"Prediction\": pred_text.strip(),\n",
    "                \"Ground‑Truth\": true_text.strip(),\n",
    "                \"Exact Match\": \"✅\" if pred_text.strip() == true_text.strip() else \"❌\"\n",
    "            })\n",
    "            if len(rows) >= N_DISPLAY:\n",
    "                break\n",
    "        if len(rows) >= N_DISPLAY:\n",
    "            break\n",
    "\n",
    "df = pd.DataFrame(rows)"
   ]
  },
  {
   "cell_type": "code",
   "execution_count": 53,
   "id": "277ec770",
   "metadata": {},
   "outputs": [
    {
     "name": "stdout",
     "output_type": "stream",
     "text": [
      "A luminary in their own right, Owen Larkspur was known for\n",
      "the pioneering sculptor who designed the first underwater spacecraft.\n",
      "being the first person to establish contact with an extraterrestrial civilization.\n"
     ]
    }
   ],
   "source": [
    "def see_result(id):\n",
    "    print(df[\"Prompt\"][id])\n",
    "    print(df[\"Prediction\"][id])\n",
    "    print(df[\"Ground‑Truth\"][id])\n",
    "\n",
    "\n",
    "see_result(13)"
   ]
  }
 ],
 "metadata": {
  "kernelspec": {
   "display_name": "hf",
   "language": "python",
   "name": "python3"
  },
  "language_info": {
   "codemirror_mode": {
    "name": "ipython",
    "version": 3
   },
   "file_extension": ".py",
   "mimetype": "text/x-python",
   "name": "python",
   "nbconvert_exporter": "python",
   "pygments_lexer": "ipython3",
   "version": "3.10.17"
  }
 },
 "nbformat": 4,
 "nbformat_minor": 5
}
